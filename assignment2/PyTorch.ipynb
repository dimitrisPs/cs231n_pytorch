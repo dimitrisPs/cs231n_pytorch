{
 "cells": [
  {
   "cell_type": "markdown",
   "metadata": {
    "colab_type": "text",
    "id": "UfFUWqT4dmwY"
   },
   "source": [
    "# Training a ConvNet PyTorch\n",
    "\n",
    "In this notebook, you'll learn how to use the powerful PyTorch framework to specify a conv net architecture and train it on the CIFAR-10 dataset."
   ]
  },
  {
   "cell_type": "code",
   "execution_count": 0,
   "metadata": {
    "colab": {},
    "colab_type": "code",
    "id": "9PXf6JiVdmwc"
   },
   "outputs": [],
   "source": [
    "import torch\n",
    "import torch.nn as nn\n",
    "import torch.optim as optim\n",
    "from torch.autograd import Variable\n",
    "from torch.utils.data import DataLoader\n",
    "from torch.utils.data import sampler\n",
    "\n",
    "import torchvision.datasets as dset\n",
    "import torchvision.transforms as T\n",
    "\n",
    "import numpy as np\n",
    "\n",
    "import timeit"
   ]
  },
  {
   "cell_type": "markdown",
   "metadata": {
    "colab_type": "text",
    "id": "BIDDY6kidmwl"
   },
   "source": [
    "## What's this PyTorch business?\n",
    "\n",
    "You've written a lot of code in this assignment to provide a whole host of neural network functionality. Dropout, Batch Norm, and 2D convolutions are some of the workhorses of deep learning in computer vision. You've also worked hard to make your code efficient and vectorized.\n",
    "\n",
    "For the last part of this assignment, though, we're going to leave behind your beautiful codebase and instead migrate to one of two popular deep learning frameworks: in this instance, PyTorch (or TensorFlow, if you switch over to that notebook). \n",
    "\n",
    "Why?\n",
    "\n",
    "* Our code will now run on GPUs! Much faster training. When using a framework like PyTorch or TensorFlow you can harness the power of the GPU for your own custom neural network architectures without having to write CUDA code directly (which is beyond the scope of this class).\n",
    "* We want you to be ready to use one of these frameworks for your project so you can experiment more efficiently than if you were writing every feature you want to use by hand. \n",
    "* We want you to stand on the shoulders of giants! TensorFlow and PyTorch are both excellent frameworks that will make your lives a lot easier, and now that you understand their guts, you are free to use them :) \n",
    "* We want you to be exposed to the sort of deep learning code you might run into in academia or industry. "
   ]
  },
  {
   "cell_type": "markdown",
   "metadata": {
    "colab_type": "text",
    "id": "eyI3BMpMdmwn"
   },
   "source": [
    "## How will I learn PyTorch?\n",
    "\n",
    "If you've used Torch before, but are new to PyTorch, this tutorial might be of use: http://pytorch.org/tutorials/beginner/former_torchies_tutorial.html\n",
    "\n",
    "Otherwise, this notebook will walk you through much of what you need to do to train models in Torch. See the end of the notebook for some links to helpful tutorials if you want to learn more or need further clarification on topics that aren't fully explained here."
   ]
  },
  {
   "cell_type": "markdown",
   "metadata": {
    "colab_type": "text",
    "id": "anCgB5hadmwo"
   },
   "source": [
    "## Load Datasets\n",
    "\n",
    "We load the CIFAR-10 dataset. This might take a couple minutes the first time you do it, but the files should stay cached after that."
   ]
  },
  {
   "cell_type": "code",
   "execution_count": 0,
   "metadata": {
    "colab": {
     "base_uri": "https://localhost:8080/",
     "height": 87
    },
    "colab_type": "code",
    "id": "p2uT6XM1dmwp",
    "outputId": "1082861b-af05-40dd-9ffd-cc9c7077556e"
   },
   "outputs": [
    {
     "name": "stderr",
     "output_type": "stream",
     "text": [
      "  0%|          | 0/170498071 [00:00<?, ?it/s]"
     ]
    },
    {
     "name": "stdout",
     "output_type": "stream",
     "text": [
      "Downloading https://www.cs.toronto.edu/~kriz/cifar-10-python.tar.gz to ./cs231n/datasets/cifar-10-python.tar.gz\n"
     ]
    },
    {
     "name": "stderr",
     "output_type": "stream",
     "text": [
      "170500096it [00:01, 85424867.08it/s]                               \n"
     ]
    },
    {
     "name": "stdout",
     "output_type": "stream",
     "text": [
      "Files already downloaded and verified\n",
      "Files already downloaded and verified\n"
     ]
    }
   ],
   "source": [
    "class ChunkSampler(sampler.Sampler):\n",
    "    \"\"\"Samples elements sequentially from some offset. \n",
    "    Arguments:\n",
    "        num_samples: # of desired datapoints\n",
    "        start: offset where we should start selecting from\n",
    "    \"\"\"\n",
    "    def __init__(self, num_samples, start = 0):\n",
    "        self.num_samples = num_samples\n",
    "        self.start = start\n",
    "\n",
    "    def __iter__(self):\n",
    "        return iter(range(self.start, self.start + self.num_samples))\n",
    "\n",
    "    def __len__(self):\n",
    "        return self.num_samples\n",
    "\n",
    "NUM_TRAIN = 49000\n",
    "NUM_VAL = 1000\n",
    "\n",
    "cifar10_train = dset.CIFAR10('./cs231n/datasets', train=True, download=True,\n",
    "                           transform=T.ToTensor())\n",
    "loader_train = DataLoader(cifar10_train, batch_size=64, sampler=ChunkSampler(NUM_TRAIN, 0))\n",
    "\n",
    "cifar10_val = dset.CIFAR10('./cs231n/datasets', train=True, download=True,\n",
    "                           transform=T.ToTensor())\n",
    "loader_val = DataLoader(cifar10_val, batch_size=64, sampler=ChunkSampler(NUM_VAL, NUM_TRAIN))\n",
    "\n",
    "cifar10_test = dset.CIFAR10('./cs231n/datasets', train=False, download=True,\n",
    "                          transform=T.ToTensor())\n",
    "loader_test = DataLoader(cifar10_test, batch_size=64)\n"
   ]
  },
  {
   "cell_type": "markdown",
   "metadata": {
    "colab_type": "text",
    "id": "xOXo_domdmwt"
   },
   "source": [
    "For now, we're going to use a CPU-friendly datatype. Later, we'll switch to a datatype that will move all our computations to the GPU and measure the speedup."
   ]
  },
  {
   "cell_type": "code",
   "execution_count": 0,
   "metadata": {
    "colab": {},
    "colab_type": "code",
    "id": "I7_2W5Agdmwu"
   },
   "outputs": [],
   "source": [
    "dtype = torch.FloatTensor # the CPU datatype\n",
    "\n",
    "# Constant to control how frequently we print train loss\n",
    "print_every = 100\n",
    "\n",
    "# This is a little utility that we'll use to reset the model\n",
    "# if we want to re-initialize all our parameters\n",
    "def reset(m):\n",
    "    if hasattr(m, 'reset_parameters'):\n",
    "        m.reset_parameters()"
   ]
  },
  {
   "cell_type": "markdown",
   "metadata": {
    "colab_type": "text",
    "id": "eiqZqTPHdmwz"
   },
   "source": [
    "## Example Model\n",
    "\n",
    "### Some assorted tidbits\n",
    "\n",
    "Let's start by looking at a simple model. First, note that PyTorch operates on Tensors, which are n-dimensional arrays functionally analogous to numpy's ndarrays, with the additional feature that they can be used for computations on GPUs.\n",
    "\n",
    "We'll provide you with a Flatten function, which we explain here. Remember that our image data (and more relevantly, our intermediate feature maps) are initially N x C x H x W, where:\n",
    "* N is the number of datapoints\n",
    "* C is the number of channels\n",
    "* H is the height of the intermediate feature map in pixels\n",
    "* W is the height of the intermediate feature map in pixels\n",
    "\n",
    "This is the right way to represent the data when we are doing something like a 2D convolution, that needs spatial understanding of where the intermediate features are relative to each other. When we input  data into fully connected affine layers, however, we want each datapoint to be represented by a single vector -- it's no longer useful to segregate the different channels, rows, and columns of the data. So, we use a \"Flatten\" operation to collapse the C x H x W values per representation into a single long vector. The Flatten function below first reads in the N, C, H, and W values from a given batch of data, and then returns a \"view\" of that data. \"View\" is analogous to numpy's \"reshape\" method: it reshapes x's dimensions to be N x ??, where ?? is allowed to be anything (in this case, it will be C x H x W, but we don't need to specify that explicitly). "
   ]
  },
  {
   "cell_type": "code",
   "execution_count": 0,
   "metadata": {
    "colab": {},
    "colab_type": "code",
    "id": "4cDnVpugdmw1"
   },
   "outputs": [],
   "source": [
    "class Flatten(nn.Module):\n",
    "    def forward(self, x):\n",
    "        N, C, H, W = x.size() # read in N, C, H, W\n",
    "        return x.view(N, -1)  # \"flatten\" the C * H * W values into a single vector per image"
   ]
  },
  {
   "cell_type": "markdown",
   "metadata": {
    "colab_type": "text",
    "id": "FDgdskAkdmw6"
   },
   "source": [
    "### The example model itself\n",
    "\n",
    "The first step to training your own model is defining its architecture.\n",
    "\n",
    "Here's an example of a convolutional neural network defined in PyTorch -- try to understand what each line is doing, remembering that each layer is composed upon the previous layer. We haven't trained anything yet - that'll come next - for now, we want you to understand how everything gets set up.  nn.Sequential is a container which applies each layer\n",
    "one after the other.\n",
    "\n",
    "In that example, you see 2D convolutional layers (Conv2d), ReLU activations, and fully-connected layers (Linear). You also see the Cross-Entropy loss function, and the Adam optimizer being used. \n",
    "\n",
    "Make sure you understand why the parameters of the Linear layer are 5408 and 10.\n"
   ]
  },
  {
   "cell_type": "code",
   "execution_count": 0,
   "metadata": {
    "colab": {},
    "colab_type": "code",
    "id": "IwaQ0gXrdmw7"
   },
   "outputs": [],
   "source": [
    "# Here's where we define the architecture of the model... \n",
    "simple_model = nn.Sequential(\n",
    "                nn.Conv2d(3, 32, kernel_size=7, stride=2),\n",
    "                nn.ReLU(inplace=True),\n",
    "                Flatten(), # see above for explanation\n",
    "                nn.Linear(5408, 10), # affine layer\n",
    "              )\n",
    "\n",
    "# Set the type of all data in this model to be FloatTensor \n",
    "simple_model.type(dtype)\n",
    "\n",
    "loss_fn = nn.CrossEntropyLoss().type(dtype)\n",
    "optimizer = optim.Adam(simple_model.parameters(), lr=1e-2) # lr sets the learning rate of the optimizer"
   ]
  },
  {
   "cell_type": "markdown",
   "metadata": {
    "colab_type": "text",
    "id": "ULkuuYFFdmw_"
   },
   "source": [
    "PyTorch supports many other layer types, loss functions, and optimizers - you will experiment with these next. Here's the official API documentation for these (if any of the parameters used above were unclear, this resource will also be helpful). One note: what we call in the class \"spatial batch norm\" is called \"BatchNorm2D\" in PyTorch.\n",
    "\n",
    "* Layers: http://pytorch.org/docs/nn.html\n",
    "* Activations: http://pytorch.org/docs/nn.html#non-linear-activations\n",
    "* Loss functions: http://pytorch.org/docs/nn.html#loss-functions\n",
    "* Optimizers: http://pytorch.org/docs/optim.html#algorithms"
   ]
  },
  {
   "cell_type": "markdown",
   "metadata": {
    "colab_type": "text",
    "id": "OZy5b8f6dmxA"
   },
   "source": [
    "## Training a specific model\n",
    "\n",
    "In this section, we're going to specify a model for you to construct. The goal here isn't to get good performance (that'll be next), but instead to get comfortable with understanding the PyTorch documentation and configuring your own model. \n",
    "\n",
    "Using the code provided above as guidance, and using the following PyTorch documentation, specify a model with the following architecture:\n",
    "\n",
    "* 7x7 Convolutional Layer with 32 filters and stride of 1\n",
    "* ReLU Activation Layer\n",
    "* Spatial Batch Normalization Layer\n",
    "* 2x2 Max Pooling layer with a stride of 2\n",
    "* Affine layer with 1024 output units\n",
    "* ReLU Activation Layer\n",
    "* Affine layer from 1024 input units to 10 outputs\n",
    "\n",
    "And finally, set up a **cross-entropy** loss function and the **RMSprop** learning rule."
   ]
  },
  {
   "cell_type": "code",
   "execution_count": 0,
   "metadata": {
    "colab": {},
    "colab_type": "code",
    "id": "M-KhPTNAdmxC"
   },
   "outputs": [],
   "source": [
    "C =3\n",
    "fixed_model_base = nn.Sequential(nn.Conv2d(C, 32, 7),\\\n",
    "                                 nn.ReLU(inplace = True),\\\n",
    "                                 nn.BatchNorm2d(32),\\\n",
    "                                 nn.MaxPool2d(2, stride =2),\\\n",
    "                                 Flatten(),\\\n",
    "                                 nn.Linear(5408, 1024),\\\n",
    "                                 nn.ReLU(inplace = True),\\\n",
    "                                 nn.Linear(1024, 10)\n",
    "            )\n",
    "\n",
    "fixed_model = fixed_model_base.type(dtype)"
   ]
  },
  {
   "cell_type": "markdown",
   "metadata": {
    "colab_type": "text",
    "id": "Vovscn8EdmxF"
   },
   "source": [
    "To make sure you're doing the right thing, use the following tool to check the dimensionality of your output (it should be 64 x 10, since our batches have size 64 and the output of the final affine layer should be 10, corresponding to our 10 classes):"
   ]
  },
  {
   "cell_type": "code",
   "execution_count": 0,
   "metadata": {
    "colab": {
     "base_uri": "https://localhost:8080/",
     "height": 34
    },
    "colab_type": "code",
    "id": "9fGPeYokdmxG",
    "outputId": "4583c8da-223d-4730-da1a-dd5bd8333b56"
   },
   "outputs": [
    {
     "data": {
      "text/plain": [
       "True"
      ]
     },
     "execution_count": 7,
     "metadata": {
      "tags": []
     },
     "output_type": "execute_result"
    }
   ],
   "source": [
    "## Now we're going to feed a random batch into the model you defined and make sure the output is the right size\n",
    "x = torch.randn(64, 3, 32, 32).type(dtype)\n",
    "x_var = Variable(x.type(dtype)) # Construct a PyTorch Variable out of your input data\n",
    "ans = fixed_model(x_var)        # Feed it through the model! \n",
    "\n",
    "# Check to make sure what comes out of your model\n",
    "# is the right dimensionality... this should be True\n",
    "# if you've done everything correctly\n",
    "np.array_equal(np.array(ans.size()), np.array([64, 10]))       "
   ]
  },
  {
   "cell_type": "markdown",
   "metadata": {
    "colab_type": "text",
    "id": "5Q-UANradmxO"
   },
   "source": [
    "### GPU!\n",
    "\n",
    "Now, we're going to switch the dtype of the model and our data to the GPU-friendly tensors, and see what happens... everything is the same, except we are casting our model and input tensors as this new dtype instead of the old one.\n",
    "\n",
    "If this returns false, or otherwise fails in a not-graceful way (i.e., with some error message), you may not have an NVIDIA GPU available on your machine. If you're running locally, we recommend you switch to Google Cloud and follow the instructions to set up a GPU there. If you're already on Google Cloud, something is wrong -- make sure you followed the instructions on how to request and use a GPU on your instance. If you did, post on Piazza or come to Office Hours so we can help you debug."
   ]
  },
  {
   "cell_type": "code",
   "execution_count": 0,
   "metadata": {
    "colab": {
     "base_uri": "https://localhost:8080/",
     "height": 34
    },
    "colab_type": "code",
    "id": "nzbDIIHNdmxQ",
    "outputId": "03669c34-b09b-446b-f33b-62fa3ae1ebc2"
   },
   "outputs": [
    {
     "data": {
      "text/plain": [
       "True"
      ]
     },
     "execution_count": 8,
     "metadata": {
      "tags": []
     },
     "output_type": "execute_result"
    }
   ],
   "source": [
    "# Verify that CUDA is properly configured and you have a GPU available\n",
    "\n",
    "torch.cuda.is_available()"
   ]
  },
  {
   "cell_type": "code",
   "execution_count": 0,
   "metadata": {
    "colab": {
     "base_uri": "https://localhost:8080/",
     "height": 34
    },
    "colab_type": "code",
    "id": "wW-qSsNwdmxT",
    "outputId": "4232f3e1-194c-4834-eb8e-3f1562de6212"
   },
   "outputs": [
    {
     "data": {
      "text/plain": [
       "True"
      ]
     },
     "execution_count": 9,
     "metadata": {
      "tags": []
     },
     "output_type": "execute_result"
    }
   ],
   "source": [
    "import copy\n",
    "gpu_dtype = torch.cuda.FloatTensor\n",
    "\n",
    "fixed_model_gpu = copy.deepcopy(fixed_model_base).type(gpu_dtype)\n",
    "\n",
    "x_gpu = torch.randn(64, 3, 32, 32).type(gpu_dtype)\n",
    "x_var_gpu = Variable(x.type(gpu_dtype)) # Construct a PyTorch Variable out of your input data\n",
    "ans = fixed_model_gpu(x_var_gpu)        # Feed it through the model! \n",
    "\n",
    "# Check to make sure what comes out of your model\n",
    "# is the right dimensionality... this should be True\n",
    "# if you've done everything correctly\n",
    "np.array_equal(np.array(ans.size()), np.array([64, 10]))"
   ]
  },
  {
   "cell_type": "markdown",
   "metadata": {
    "colab_type": "text",
    "id": "mIdhsecXdmxW"
   },
   "source": [
    "Run the following cell to evaluate the performance of the forward pass running on the CPU:"
   ]
  },
  {
   "cell_type": "code",
   "execution_count": 0,
   "metadata": {
    "colab": {
     "base_uri": "https://localhost:8080/",
     "height": 34
    },
    "colab_type": "code",
    "id": "q8s8vicSdmxW",
    "outputId": "e7a3296c-f238-4934-d0b5-b10b1fe408de"
   },
   "outputs": [
    {
     "name": "stdout",
     "output_type": "stream",
     "text": [
      "10 loops, best of 3: 46.2 ms per loop\n"
     ]
    }
   ],
   "source": [
    "%%timeit \n",
    "ans = fixed_model(x_var)"
   ]
  },
  {
   "cell_type": "markdown",
   "metadata": {
    "colab_type": "text",
    "id": "g_UEvoy-dmxa"
   },
   "source": [
    "... and now the GPU:"
   ]
  },
  {
   "cell_type": "code",
   "execution_count": 0,
   "metadata": {
    "colab": {
     "base_uri": "https://localhost:8080/",
     "height": 34
    },
    "colab_type": "code",
    "id": "DICD-JCMdmxb",
    "outputId": "3cc7cb6a-3158-43fd-e4ea-3021598feca5"
   },
   "outputs": [
    {
     "name": "stdout",
     "output_type": "stream",
     "text": [
      "1000 loops, best of 3: 806 µs per loop\n"
     ]
    }
   ],
   "source": [
    "%%timeit \n",
    "torch.cuda.synchronize() # Make sure there are no pending GPU computations\n",
    "ans = fixed_model_gpu(x_var_gpu)        # Feed it through the model! \n",
    "torch.cuda.synchronize() # Make sure there are no pending GPU computations"
   ]
  },
  {
   "cell_type": "markdown",
   "metadata": {
    "colab_type": "text",
    "id": "fQgKvm6jdmxd"
   },
   "source": [
    "You should observe that even a simple forward pass like this is significantly faster on the GPU. So for the rest of the assignment (and when you go train your models in assignment 3 and your project!), you should use the GPU datatype for your model and your tensors: as a reminder that is *torch.cuda.FloatTensor* (in our notebook here as *gpu_dtype*)"
   ]
  },
  {
   "cell_type": "markdown",
   "metadata": {
    "colab_type": "text",
    "id": "BUu3tUErdmxf"
   },
   "source": [
    "### Train the model.\n",
    "\n",
    "Now that you've seen how to define a model and do a single forward pass of some data through it, let's  walk through how you'd actually train one whole epoch over your training data (using the simple_model we provided above).\n",
    "\n",
    "Make sure you understand how each PyTorch function used below corresponds to what you implemented in your custom neural network implementation.\n",
    "\n",
    "Note that because we are not resetting the weights anywhere below, if you run the cell multiple times, you are effectively training multiple epochs (so your performance should improve).\n",
    "\n",
    "First, set up an RMSprop optimizer (using a 1e-3 learning rate) and a cross-entropy loss function:"
   ]
  },
  {
   "cell_type": "code",
   "execution_count": 0,
   "metadata": {
    "colab": {},
    "colab_type": "code",
    "id": "Yiz2Xtb8dmxh"
   },
   "outputs": [],
   "source": [
    "loss_fn = nn.CrossEntropyLoss()\n",
    "optimizer = optim.RMSprop(fixed_model_gpu.parameters(), lr = 1e-3)\n"
   ]
  },
  {
   "cell_type": "code",
   "execution_count": 0,
   "metadata": {
    "colab": {
     "base_uri": "https://localhost:8080/",
     "height": 140
    },
    "colab_type": "code",
    "id": "eFS2EFt4dmxl",
    "outputId": "191168b7-1d82-457f-f7f9-16b3d849a1bb"
   },
   "outputs": [
    {
     "name": "stdout",
     "output_type": "stream",
     "text": [
      "t = 100, loss = 1.5623\n",
      "t = 200, loss = 1.5448\n",
      "t = 300, loss = 1.3797\n",
      "t = 400, loss = 1.3113\n",
      "t = 500, loss = 1.2728\n",
      "t = 600, loss = 1.3415\n",
      "t = 700, loss = 1.2905\n"
     ]
    }
   ],
   "source": [
    "# This sets the model in \"training\" mode. This is relevant for some layers that may have different behavior\n",
    "# in training mode vs testing mode, such as Dropout and BatchNorm. \n",
    "fixed_model_gpu.train()\n",
    "\n",
    "# Load one batch at a time.\n",
    "for t, (x, y) in enumerate(loader_train):\n",
    "    x_var = Variable(x.type(gpu_dtype))\n",
    "    y_var = Variable(y.type(gpu_dtype).long())\n",
    "\n",
    "    # This is the forward pass: predict the scores for each class, for each x in the batch.\n",
    "    scores = fixed_model_gpu(x_var)\n",
    "    \n",
    "    # Use the correct y values and the predicted y values to compute the loss.\n",
    "    loss = loss_fn(scores, y_var)\n",
    "    \n",
    "    if (t + 1) % print_every == 0:\n",
    "        print('t = %d, loss = %.4f' % (t + 1, loss.data))\n",
    "\n",
    "    # Zero out all of the gradients for the variables which the optimizer will update.\n",
    "    optimizer.zero_grad()\n",
    "    \n",
    "    # This is the backwards pass: compute the gradient of the loss with respect to each \n",
    "    # parameter of the model.\n",
    "    loss.backward()\n",
    "    \n",
    "    # Actually update the parameters of the model using the gradients computed by the backwards pass.\n",
    "    optimizer.step()"
   ]
  },
  {
   "cell_type": "markdown",
   "metadata": {
    "colab_type": "text",
    "id": "RWsCL2eUdmxp"
   },
   "source": [
    "Now you've seen how the training process works in PyTorch. To save you writing boilerplate code, we're providing the following helper functions to help you train for multiple epochs and check the accuracy of your model:"
   ]
  },
  {
   "cell_type": "code",
   "execution_count": 0,
   "metadata": {
    "colab": {},
    "colab_type": "code",
    "id": "IscwYDQ_dmxq"
   },
   "outputs": [],
   "source": [
    "gpu_dtype = torch.cuda.FloatTensor\n",
    "\n",
    "def train(model, loss_fn, optimizer, num_epochs = 1):\n",
    "    train_loss_history =[]\n",
    "    for epoch in range(num_epochs):\n",
    "        print('Starting epoch %d / %d' % (epoch + 1, num_epochs))\n",
    "        model.train()\n",
    "        for t, (x, y) in enumerate(loader_train):\n",
    "            x_var = Variable(x.type(gpu_dtype))\n",
    "            y_var = Variable(y.type(gpu_dtype).long())\n",
    "\n",
    "            scores = model(x_var)\n",
    "            loss = loss_fn(scores, y_var)\n",
    "            if (t + 1) % print_every == 0:\n",
    "                print('t = %d, loss = %.4f' % (t + 1, loss.data))\n",
    "                train_loss_history.append(loss.data.item())\n",
    "\n",
    "            optimizer.zero_grad()\n",
    "            loss.backward()\n",
    "            optimizer.step()\n",
    "    return train_loss_history\n",
    "            \n",
    "@torch.no_grad()\n",
    "def check_accuracy(model, loader):\n",
    "    \n",
    "    if loader.dataset.train:\n",
    "        print('Checking accuracy on validation set')\n",
    "    else:\n",
    "        print('Checking accuracy on test set')   \n",
    "    num_correct = 0\n",
    "    num_samples = 0\n",
    "    model.eval() # Put the model in test mode (the opposite of model.train(), essentially)\n",
    "    for x, y in loader:\n",
    "        x_var = Variable(x.type(gpu_dtype))\n",
    "\n",
    "        scores = model(x_var)\n",
    "        _, preds = scores.data.cpu().max(1)\n",
    "        num_correct += (preds == y).sum()\n",
    "        num_samples += preds.size(0)\n",
    "    acc = float(num_correct) / num_samples\n",
    "    print('Got %d / %d correct (%.2f)' % (num_correct, num_samples, 100 * acc))"
   ]
  },
  {
   "cell_type": "markdown",
   "metadata": {
    "colab_type": "text",
    "id": "LvzOsbzJdmxv"
   },
   "source": [
    "### Check the accuracy of the model.\n",
    "\n",
    "Let's see the train and check_accuracy code in action -- feel free to use these methods when evaluating the models you develop below.\n",
    "\n",
    "You should get a training loss of around 1.2-1.4, and a validation accuracy of around 50-60%. As mentioned above, if you re-run the cells, you'll be training more epochs, so your performance will improve past these numbers.\n",
    "\n",
    "But don't worry about getting these numbers better -- this was just practice before you tackle designing your own model."
   ]
  },
  {
   "cell_type": "code",
   "execution_count": 0,
   "metadata": {
    "colab": {
     "base_uri": "https://localhost:8080/",
     "height": 193
    },
    "colab_type": "code",
    "id": "CnwVTpKHdmxw",
    "outputId": "c20181c8-55f0-41a8-b14b-d3cd70d1951a"
   },
   "outputs": [
    {
     "name": "stdout",
     "output_type": "stream",
     "text": [
      "Starting epoch 1 / 1\n",
      "t = 100, loss = 1.4004\n",
      "t = 200, loss = 1.5275\n",
      "t = 300, loss = 1.3871\n",
      "t = 400, loss = 1.2286\n",
      "t = 500, loss = 1.2242\n",
      "t = 600, loss = 1.3307\n",
      "t = 700, loss = 1.2652\n",
      "Checking accuracy on validation set\n",
      "Got 537 / 1000 correct (53.70)\n"
     ]
    }
   ],
   "source": [
    "torch.cuda.random.manual_seed(12345)\n",
    "fixed_model_gpu.apply(reset)\n",
    "train(fixed_model_gpu, loss_fn, optimizer, num_epochs=1)\n",
    "check_accuracy(fixed_model_gpu, loader_val)"
   ]
  },
  {
   "cell_type": "markdown",
   "metadata": {
    "colab_type": "text",
    "id": "l9UY7Dh-dmx4"
   },
   "source": [
    "### Don't forget the validation set!\n",
    "\n",
    "And note that you can use the check_accuracy function to evaluate on either the test set or the validation set, by passing either **loader_test** or **loader_val** as the second argument to check_accuracy. You should not touch the test set until you have finished your architecture and hyperparameter tuning, and only run the test set once at the end to report a final value. "
   ]
  },
  {
   "cell_type": "markdown",
   "metadata": {
    "colab_type": "text",
    "id": "uCaVaWKvdmx6"
   },
   "source": [
    "## Train a _great_ model on CIFAR-10!\n",
    "\n",
    "Now it's your job to experiment with architectures, hyperparameters, loss functions, and optimizers to train a model that achieves **>=70%** accuracy on the CIFAR-10 **validation** set. You can use the check_accuracy and train functions from above."
   ]
  },
  {
   "cell_type": "markdown",
   "metadata": {
    "colab_type": "text",
    "id": "8cQYh_Wxdmx7"
   },
   "source": [
    "### Things you should try:\n",
    "- **Filter size**: Above we used 7x7; this makes pretty pictures but smaller filters may be more efficient\n",
    "- **Number of filters**: Above we used 32 filters. Do more or fewer do better?\n",
    "- **Pooling vs Strided Convolution**: Do you use max pooling or just stride convolutions?\n",
    "- **Batch normalization**: Try adding spatial batch normalization after convolution layers and vanilla batch normalization after affine layers. Do your networks train faster?\n",
    "- **Network architecture**: The network above has two layers of trainable parameters. Can you do better with a deep network? Good architectures to try include:\n",
    "    - [conv-relu-pool]xN -> [affine]xM -> [softmax or SVM]\n",
    "    - [conv-relu-conv-relu-pool]xN -> [affine]xM -> [softmax or SVM]\n",
    "    - [batchnorm-relu-conv]xN -> [affine]xM -> [softmax or SVM]\n",
    "- **Global Average Pooling**: Instead of flattening and then having multiple affine layers, perform convolutions until your image gets small (7x7 or so) and then perform an average pooling operation to get to a 1x1 image picture (1, 1 , Filter#), which is then reshaped into a (Filter#) vector. This is used in [Google's Inception Network](https://arxiv.org/abs/1512.00567) (See Table 1 for their architecture).\n",
    "- **Regularization**: Add l2 weight regularization, or perhaps use Dropout.\n",
    "\n",
    "### Tips for training\n",
    "For each network architecture that you try, you should tune the learning rate and regularization strength. When doing this there are a couple important things to keep in mind:\n",
    "\n",
    "- If the parameters are working well, you should see improvement within a few hundred iterations\n",
    "- Remember the coarse-to-fine approach for hyperparameter tuning: start by testing a large range of hyperparameters for just a few training iterations to find the combinations of parameters that are working at all.\n",
    "- Once you have found some sets of parameters that seem to work, search more finely around these parameters. You may need to train for more epochs.\n",
    "- You should use the validation set for hyperparameter search, and save your test set for evaluating your architecture on the best parameters as selected by the validation set.\n",
    "\n",
    "### Going above and beyond\n",
    "If you are feeling adventurous there are many other features you can implement to try and improve your performance. You are **not required** to implement any of these; however they would be good things to try for extra credit.\n",
    "\n",
    "- Alternative update steps: For the assignment we implemented SGD+momentum, RMSprop, and Adam; you could try alternatives like AdaGrad or AdaDelta.\n",
    "- Alternative activation functions such as leaky ReLU, parametric ReLU, ELU, or MaxOut.\n",
    "- Model ensembles\n",
    "- Data augmentation\n",
    "- New Architectures\n",
    "  - [ResNets](https://arxiv.org/abs/1512.03385) where the input from the previous layer is added to the output.\n",
    "  - [DenseNets](https://arxiv.org/abs/1608.06993) where inputs into previous layers are concatenated together.\n",
    "  - [This blog has an in-depth overview](https://chatbotslife.com/resnets-highwaynets-and-densenets-oh-my-9bb15918ee32)\n",
    "\n",
    "If you do decide to implement something extra, clearly describe it in the \"Extra Credit Description\" cell below.\n",
    "\n",
    "### What we expect\n",
    "At the very least, you should be able to train a ConvNet that gets at least 70% accuracy on the validation set. This is just a lower bound - if you are careful it should be possible to get accuracies much higher than that! Extra credit points will be awarded for particularly high-scoring models or unique approaches.\n",
    "\n",
    "You should use the space below to experiment and train your network. \n",
    "\n",
    "Have fun and happy training!"
   ]
  },
  {
   "cell_type": "code",
   "execution_count": 0,
   "metadata": {
    "colab": {},
    "colab_type": "code",
    "id": "8Gw5M9mhhHLi"
   },
   "outputs": [],
   "source": [
    "class Cnn_crp(nn.Module):\n",
    "\n",
    "    def __init__(self, conv_depth=1, affine_depth=1, kernel_size=7, c_pad=1, c_stride=1, p_size=2, p_stride=2):\n",
    "        super(Cnn_crp, self).__init__()\n",
    "        # Define all the layers that hold trainable parameters.\n",
    "        # Store those layers to a dictionary for easy configuration \n",
    "        # Let M be the number of total convolutional layers and N be the number \n",
    "        # of total affine layers.\n",
    "        # input channels\n",
    "        input_channels = 3            \n",
    "        num_classes = 10\n",
    "        self.cnv_layers = nn.ModuleList([self.cnv_cpr(3, 64, kernel_size)])\n",
    "        self.cnv_layers.extend([self.cnv_cpr(64, 64, kernel_size) for _ in range(conv_depth-1)])\n",
    "        \n",
    "        # compute the input input size of the affine layer.\n",
    "        \n",
    "        w_h = 32\n",
    "        for _ in range(conv_depth):\n",
    "            if(w_h < kernel_size):\n",
    "                print('reduce depth or kernel size') \n",
    "            w_h = (w_h + 2*c_pad - kernel_size)/c_stride +1\n",
    "            w_h = (w_h - p_size)/p_stride +1\n",
    "\n",
    "        fc_input = int(64  * w_h**2)\n",
    "        # Define the affine layer\n",
    "        if affine_depth>=2:\n",
    "            self.fc=nn.ModuleList([nn.Linear(fc_input, 20)])\n",
    "            self.fc.extend([nn.Linear(20, 20) for _ in range(affine_depth -2)])\n",
    "            self.fc.append(nn.Linear(20, num_classes))\n",
    "        else: \n",
    "            # If we have one module, we put it in the list to make forward pass\n",
    "            # code cleaner\n",
    "            self.fc = nn.ModuleList([nn.Linear(fc_input, num_classes)])\n",
    "            \n",
    "        \n",
    "        \n",
    "    def forward (self, x):\n",
    "        for c_layer in self.cnv_layers:\n",
    "            x = c_layer(x)\n",
    "        \n",
    "        #reshape the 4D convolution output to 2d for fc layer. \n",
    "        x = x.view(x.size(0), -1) \n",
    "            \n",
    "        for a_layer in self.fc:\n",
    "            x = a_layer(x)\n",
    "        return x\n",
    "        \n",
    "\n",
    "    \n",
    "    # Built the basic cpr layer(Convolution-Pooling-Relu). This will be used as\n",
    "    # a module to the main class.\n",
    "    def cnv_cpr(self, in_s, out_s,kernel_size=7, c_pad=1, c_stride=1, p_size=2, p_stride=2):\n",
    "        return nn.Sequential(nn.Conv2d(in_s , out_s, kernel_size, c_pad, c_stride),\n",
    "                            nn.MaxPool2d(p_size, stride=p_stride),\n",
    "                            nn.ReLU())\n",
    "        \n",
    "        "
   ]
  },
  {
   "cell_type": "code",
   "execution_count": 0,
   "metadata": {
    "colab": {},
    "colab_type": "code",
    "id": "mS67vVo9LThP"
   },
   "outputs": [],
   "source": [
    "class Cnn_brcd(nn.Module):\n",
    "\n",
    "    def __init__(self, conv_depth=1, affine_depth=1, kernel_size=7, c_pad=1, c_stride=1, p_size=2, p_stride=2):\n",
    "        super(Cnn_brcd, self).__init__()\n",
    "        # Define all the layers that hold trainable parameters.\n",
    "        # Store those layers to a dictionary for easy configuration \n",
    "        # Let M be the number of total convolutional layers and N be the number \n",
    "        # of total affine layers.\n",
    "        # input channels\n",
    "        input_channels = 3            \n",
    "        num_classes = 10\n",
    "        self.cnv_layers = nn.ModuleList([self.cnv_brcd(3, 64 , kernel_size)])\n",
    "        self.cnv_layers.extend([self.cnv_brcd((d+1)*64, (d+2)*64, kernel_size) for d in range(conv_depth-1)])\n",
    "        \n",
    "        # compute the input input size of the affine layer.\n",
    "        \n",
    "        w_h = 32\n",
    "        print(kernel_size)\n",
    "        for _ in range(conv_depth):\n",
    "            if(w_h < kernel_size):\n",
    "                print('reduce depth or kernel size') \n",
    "            w_h = (w_h + 2*c_pad - kernel_size)/c_stride +1\n",
    "            w_h = (w_h - p_size)/p_stride +1\n",
    "            \n",
    "        fc_input = int((conv_depth)*64  * w_h**2)\n",
    "        # Define the affine layer\n",
    "        if affine_depth>=2:\n",
    "            self.fc=nn.ModuleList([self.affine_bn(fc_input, 128)])\n",
    "            self.fc.extend([self.affine_bn(128, 128) for _ in range(affine_depth -2)])\n",
    "            self.fc.append(self.affine_bn(128, num_classes))\n",
    "        else: \n",
    "            # If we have one module, we put it in the list to make forward pass\n",
    "            # code cleaner\n",
    "            self.fc = nn.ModuleList([self.affine_bn(fc_input, num_classes)])\n",
    "            \n",
    "        \n",
    "        \n",
    "    def forward (self, x):\n",
    "        for c_layer in self.cnv_layers:\n",
    "            x = c_layer(x)\n",
    "        \n",
    "        #reshape the 4D convolution output to 2d for fc layer. \n",
    "        x = x.view(x.size(0), -1) \n",
    "            \n",
    "        for a_layer in self.fc:\n",
    "            x = a_layer(x)\n",
    "        return x\n",
    "        \n",
    "\n",
    "    \n",
    "    # Built the basic cpr layer(Convolution-Pooling-Relu). This will be used as\n",
    "    # a module to the main class.\n",
    "    def cnv_brcd(self, in_s, out_s, kernel_size=7, c_pad=1, c_stride=1, p_size=2, p_stride=2):\n",
    "        return nn.Sequential(nn.Conv2d(in_s , out_s, kernel_size, c_pad, c_stride),\n",
    "                             nn.BatchNorm2d(out_s),\n",
    "                             nn.Dropout2d(0.5),\n",
    "                             nn.LeakyReLU(),\n",
    "                             nn.MaxPool2d(p_size)\n",
    "                             )\n",
    "    def affine_bn(self, input_size, output_size):\n",
    "        return nn.Sequential(nn.BatchNorm1d(input_size),\n",
    "                             nn.Linear(input_size, output_size),\n",
    "                             nn.LeakyReLU()\n",
    "                             )\n",
    "    "
   ]
  },
  {
   "cell_type": "code",
   "execution_count": 180,
   "metadata": {
    "colab": {
     "base_uri": "https://localhost:8080/",
     "height": 34
    },
    "colab_type": "code",
    "id": "WzOXfLP2dmx-",
    "outputId": "f610c0ed-b18d-4edb-c146-9f6ebedb28a4"
   },
   "outputs": [
    {
     "name": "stdout",
     "output_type": "stream",
     "text": [
      "3\n"
     ]
    }
   ],
   "source": [
    "# Train your model here, and make sure the output of this cell is the accuracy of your best model on the \n",
    "# train, val, and test sets. Here's some code to get you started. The output of this cell should be the training\n",
    "# and validation accuracy on your best model (measured by validation accuracy).\n",
    "\n",
    "conv_depth = 4\n",
    "affine_depth = 5\n",
    "model = Cnn_brcd(conv_depth, affine_depth, 3, 1).to('cuda')\n",
    "\n",
    "\n",
    "loss_fn = nn.CrossEntropyLoss()\n",
    "optimizer = optim.Adam(model.parameters(), lr=5e-4)\n",
    "\n",
    "\n",
    "\n",
    "\n"
   ]
  },
  {
   "cell_type": "code",
   "execution_count": 181,
   "metadata": {
    "colab": {
     "base_uri": "https://localhost:8080/",
     "height": 7092
    },
    "colab_type": "code",
    "id": "E3J--r7bOFls",
    "outputId": "aeb3a3ed-285c-4f1d-c5fb-ac112f49ebfe"
   },
   "outputs": [
    {
     "name": "stdout",
     "output_type": "stream",
     "text": [
      "Starting epoch 1 / 50\n",
      "t = 100, loss = 2.2694\n",
      "t = 200, loss = 2.1218\n",
      "t = 300, loss = 2.0626\n",
      "t = 400, loss = 1.7629\n",
      "t = 500, loss = 1.7725\n",
      "t = 600, loss = 1.8720\n",
      "t = 700, loss = 1.8501\n",
      "Starting epoch 2 / 50\n",
      "t = 100, loss = 1.6580\n",
      "t = 200, loss = 1.7342\n",
      "t = 300, loss = 1.6426\n",
      "t = 400, loss = 1.5057\n",
      "t = 500, loss = 1.5929\n",
      "t = 600, loss = 1.5668\n",
      "t = 700, loss = 1.7104\n",
      "Starting epoch 3 / 50\n",
      "t = 100, loss = 1.5017\n",
      "t = 200, loss = 1.4989\n",
      "t = 300, loss = 1.6760\n",
      "t = 400, loss = 1.3742\n",
      "t = 500, loss = 1.3738\n",
      "t = 600, loss = 1.5098\n",
      "t = 700, loss = 1.5497\n",
      "Starting epoch 4 / 50\n",
      "t = 100, loss = 1.3294\n",
      "t = 200, loss = 1.5509\n",
      "t = 300, loss = 1.4588\n",
      "t = 400, loss = 1.3217\n",
      "t = 500, loss = 1.3694\n",
      "t = 600, loss = 1.4790\n",
      "t = 700, loss = 1.5027\n",
      "Starting epoch 5 / 50\n",
      "t = 100, loss = 1.2186\n",
      "t = 200, loss = 1.3819\n",
      "t = 300, loss = 1.3844\n",
      "t = 400, loss = 1.1945\n",
      "t = 500, loss = 1.3202\n",
      "t = 600, loss = 1.4158\n",
      "t = 700, loss = 1.5155\n",
      "Starting epoch 6 / 50\n",
      "t = 100, loss = 1.1373\n",
      "t = 200, loss = 1.3097\n",
      "t = 300, loss = 1.3030\n",
      "t = 400, loss = 1.0930\n",
      "t = 500, loss = 1.1142\n",
      "t = 600, loss = 1.2556\n",
      "t = 700, loss = 1.3204\n",
      "Starting epoch 7 / 50\n",
      "t = 100, loss = 1.0324\n",
      "t = 200, loss = 1.3142\n",
      "t = 300, loss = 1.2756\n",
      "t = 400, loss = 1.0694\n",
      "t = 500, loss = 1.0685\n",
      "t = 600, loss = 1.3943\n",
      "t = 700, loss = 1.3584\n",
      "Starting epoch 8 / 50\n",
      "t = 100, loss = 1.0703\n",
      "t = 200, loss = 1.0987\n",
      "t = 300, loss = 1.3475\n",
      "t = 400, loss = 1.0534\n",
      "t = 500, loss = 1.1440\n",
      "t = 600, loss = 1.2072\n",
      "t = 700, loss = 1.2564\n",
      "Starting epoch 9 / 50\n",
      "t = 100, loss = 1.0606\n",
      "t = 200, loss = 1.2528\n",
      "t = 300, loss = 1.2252\n",
      "t = 400, loss = 1.0673\n",
      "t = 500, loss = 1.1171\n",
      "t = 600, loss = 1.1364\n",
      "t = 700, loss = 1.5159\n",
      "Starting epoch 10 / 50\n",
      "t = 100, loss = 1.0940\n",
      "t = 200, loss = 1.1404\n",
      "t = 300, loss = 1.1629\n",
      "t = 400, loss = 1.0347\n",
      "t = 500, loss = 0.9122\n",
      "t = 600, loss = 1.2378\n",
      "t = 700, loss = 1.3022\n",
      "Starting epoch 11 / 50\n",
      "t = 100, loss = 1.0333\n",
      "t = 200, loss = 1.0916\n",
      "t = 300, loss = 1.2619\n",
      "t = 400, loss = 0.9747\n",
      "t = 500, loss = 1.0740\n",
      "t = 600, loss = 1.0158\n",
      "t = 700, loss = 1.2842\n",
      "Starting epoch 12 / 50\n",
      "t = 100, loss = 1.0710\n",
      "t = 200, loss = 1.0278\n",
      "t = 300, loss = 1.2032\n",
      "t = 400, loss = 0.9577\n",
      "t = 500, loss = 1.0805\n",
      "t = 600, loss = 1.1308\n",
      "t = 700, loss = 1.2006\n",
      "Starting epoch 13 / 50\n",
      "t = 100, loss = 1.1473\n",
      "t = 200, loss = 1.0701\n",
      "t = 300, loss = 1.0334\n",
      "t = 400, loss = 0.8930\n",
      "t = 500, loss = 1.0568\n",
      "t = 600, loss = 0.9355\n",
      "t = 700, loss = 1.0917\n",
      "Starting epoch 14 / 50\n",
      "t = 100, loss = 1.0013\n",
      "t = 200, loss = 1.0415\n",
      "t = 300, loss = 1.0463\n",
      "t = 400, loss = 0.8941\n",
      "t = 500, loss = 1.1344\n",
      "t = 600, loss = 1.0628\n",
      "t = 700, loss = 1.1339\n",
      "Starting epoch 15 / 50\n",
      "t = 100, loss = 0.8175\n",
      "t = 200, loss = 1.0557\n",
      "t = 300, loss = 1.1583\n",
      "t = 400, loss = 0.8922\n",
      "t = 500, loss = 1.1134\n",
      "t = 600, loss = 0.9483\n",
      "t = 700, loss = 1.3007\n",
      "Starting epoch 16 / 50\n",
      "t = 100, loss = 0.9114\n",
      "t = 200, loss = 0.8895\n",
      "t = 300, loss = 1.0850\n",
      "t = 400, loss = 0.8469\n",
      "t = 500, loss = 0.9667\n",
      "t = 600, loss = 0.9153\n",
      "t = 700, loss = 1.0445\n",
      "Starting epoch 17 / 50\n",
      "t = 100, loss = 0.9251\n",
      "t = 200, loss = 0.9307\n",
      "t = 300, loss = 0.9600\n",
      "t = 400, loss = 0.9584\n",
      "t = 500, loss = 0.9660\n",
      "t = 600, loss = 0.9924\n",
      "t = 700, loss = 1.2406\n",
      "Starting epoch 18 / 50\n",
      "t = 100, loss = 0.7923\n",
      "t = 200, loss = 0.9787\n",
      "t = 300, loss = 1.0252\n",
      "t = 400, loss = 0.9669\n",
      "t = 500, loss = 0.8533\n",
      "t = 600, loss = 0.9527\n",
      "t = 700, loss = 1.0080\n",
      "Starting epoch 19 / 50\n",
      "t = 100, loss = 0.8483\n",
      "t = 200, loss = 0.8308\n",
      "t = 300, loss = 1.0558\n",
      "t = 400, loss = 0.8561\n",
      "t = 500, loss = 0.9890\n",
      "t = 600, loss = 0.9385\n",
      "t = 700, loss = 1.1210\n",
      "Starting epoch 20 / 50\n",
      "t = 100, loss = 0.8469\n",
      "t = 200, loss = 0.8622\n",
      "t = 300, loss = 1.1076\n",
      "t = 400, loss = 0.8432\n",
      "t = 500, loss = 0.9212\n",
      "t = 600, loss = 0.9051\n",
      "t = 700, loss = 1.0371\n",
      "Starting epoch 21 / 50\n",
      "t = 100, loss = 0.8872\n",
      "t = 200, loss = 0.8098\n",
      "t = 300, loss = 0.8999\n",
      "t = 400, loss = 0.9213\n",
      "t = 500, loss = 0.8935\n",
      "t = 600, loss = 0.7892\n",
      "t = 700, loss = 1.0834\n",
      "Starting epoch 22 / 50\n",
      "t = 100, loss = 0.7813\n",
      "t = 200, loss = 0.9288\n",
      "t = 300, loss = 0.9553\n",
      "t = 400, loss = 0.8079\n",
      "t = 500, loss = 0.8947\n",
      "t = 600, loss = 0.7388\n",
      "t = 700, loss = 0.8982\n",
      "Starting epoch 23 / 50\n",
      "t = 100, loss = 0.7253\n",
      "t = 200, loss = 0.8087\n",
      "t = 300, loss = 0.9144\n",
      "t = 400, loss = 0.8139\n",
      "t = 500, loss = 0.9314\n",
      "t = 600, loss = 0.8869\n",
      "t = 700, loss = 1.1305\n",
      "Starting epoch 24 / 50\n",
      "t = 100, loss = 0.7232\n",
      "t = 200, loss = 0.7357\n",
      "t = 300, loss = 0.8186\n",
      "t = 400, loss = 0.8291\n",
      "t = 500, loss = 0.8553\n",
      "t = 600, loss = 0.8088\n",
      "t = 700, loss = 0.9595\n",
      "Starting epoch 25 / 50\n",
      "t = 100, loss = 0.7024\n",
      "t = 200, loss = 0.9108\n",
      "t = 300, loss = 0.8802\n",
      "t = 400, loss = 0.8796\n",
      "t = 500, loss = 0.8330\n",
      "t = 600, loss = 0.7406\n",
      "t = 700, loss = 0.9111\n",
      "Starting epoch 26 / 50\n",
      "t = 100, loss = 0.8116\n",
      "t = 200, loss = 0.8377\n",
      "t = 300, loss = 0.9250\n",
      "t = 400, loss = 0.7802\n",
      "t = 500, loss = 0.7187\n",
      "t = 600, loss = 0.8016\n",
      "t = 700, loss = 0.9926\n",
      "Starting epoch 27 / 50\n",
      "t = 100, loss = 0.6965\n",
      "t = 200, loss = 0.7110\n",
      "t = 300, loss = 0.8680\n",
      "t = 400, loss = 0.8482\n",
      "t = 500, loss = 0.6493\n",
      "t = 600, loss = 0.8033\n",
      "t = 700, loss = 1.0817\n",
      "Starting epoch 28 / 50\n",
      "t = 100, loss = 0.7326\n",
      "t = 200, loss = 0.8786\n",
      "t = 300, loss = 0.8321\n",
      "t = 400, loss = 0.7638\n",
      "t = 500, loss = 0.7438\n",
      "t = 600, loss = 0.8143\n",
      "t = 700, loss = 1.0427\n",
      "Starting epoch 29 / 50\n",
      "t = 100, loss = 0.7380\n",
      "t = 200, loss = 0.7751\n",
      "t = 300, loss = 0.7299\n",
      "t = 400, loss = 0.6857\n",
      "t = 500, loss = 0.7588\n",
      "t = 600, loss = 0.7499\n",
      "t = 700, loss = 0.8508\n",
      "Starting epoch 30 / 50\n",
      "t = 100, loss = 0.7599\n",
      "t = 200, loss = 0.8131\n",
      "t = 300, loss = 0.8852\n",
      "t = 400, loss = 0.7072\n",
      "t = 500, loss = 0.8463\n",
      "t = 600, loss = 0.7944\n",
      "t = 700, loss = 1.0203\n",
      "Starting epoch 31 / 50\n",
      "t = 100, loss = 0.6396\n",
      "t = 200, loss = 0.7779\n",
      "t = 300, loss = 0.7999\n",
      "t = 400, loss = 0.6171\n",
      "t = 500, loss = 0.7792\n",
      "t = 600, loss = 0.7780\n",
      "t = 700, loss = 1.0513\n",
      "Starting epoch 32 / 50\n",
      "t = 100, loss = 0.6899\n",
      "t = 200, loss = 0.7196\n",
      "t = 300, loss = 0.8697\n",
      "t = 400, loss = 0.8030\n",
      "t = 500, loss = 0.7279\n",
      "t = 600, loss = 0.5498\n",
      "t = 700, loss = 0.7142\n",
      "Starting epoch 33 / 50\n",
      "t = 100, loss = 0.7770\n",
      "t = 200, loss = 0.7782\n",
      "t = 300, loss = 0.5834\n",
      "t = 400, loss = 0.7711\n",
      "t = 500, loss = 0.7290\n",
      "t = 600, loss = 0.6638\n",
      "t = 700, loss = 0.8563\n",
      "Starting epoch 34 / 50\n",
      "t = 100, loss = 0.7443\n",
      "t = 200, loss = 0.9102\n",
      "t = 300, loss = 0.8445\n",
      "t = 400, loss = 0.8078\n",
      "t = 500, loss = 0.8305\n",
      "t = 600, loss = 0.6891\n",
      "t = 700, loss = 0.8064\n",
      "Starting epoch 35 / 50\n",
      "t = 100, loss = 0.5486\n",
      "t = 200, loss = 0.6040\n",
      "t = 300, loss = 0.6985\n",
      "t = 400, loss = 0.6400\n",
      "t = 500, loss = 0.6915\n",
      "t = 600, loss = 0.7951\n",
      "t = 700, loss = 1.0156\n",
      "Starting epoch 36 / 50\n",
      "t = 100, loss = 0.6717\n",
      "t = 200, loss = 0.6496\n",
      "t = 300, loss = 0.7086\n",
      "t = 400, loss = 0.7811\n",
      "t = 500, loss = 0.6786\n",
      "t = 600, loss = 0.7138\n",
      "t = 700, loss = 0.8542\n",
      "Starting epoch 37 / 50\n",
      "t = 100, loss = 0.6396\n",
      "t = 200, loss = 0.6971\n",
      "t = 300, loss = 0.6935\n",
      "t = 400, loss = 0.7581\n",
      "t = 500, loss = 0.7964\n",
      "t = 600, loss = 0.7781\n",
      "t = 700, loss = 0.7364\n",
      "Starting epoch 38 / 50\n",
      "t = 100, loss = 0.7499\n",
      "t = 200, loss = 0.7145\n",
      "t = 300, loss = 0.6257\n",
      "t = 400, loss = 0.6790\n",
      "t = 500, loss = 0.8240\n",
      "t = 600, loss = 0.6696\n",
      "t = 700, loss = 0.8084\n",
      "Starting epoch 39 / 50\n",
      "t = 100, loss = 0.7436\n",
      "t = 200, loss = 0.8248\n",
      "t = 300, loss = 0.7267\n",
      "t = 400, loss = 0.6422\n",
      "t = 500, loss = 0.6443\n",
      "t = 600, loss = 0.6357\n",
      "t = 700, loss = 0.8672\n",
      "Starting epoch 40 / 50\n",
      "t = 100, loss = 0.6683\n",
      "t = 200, loss = 0.8204\n",
      "t = 300, loss = 0.7585\n",
      "t = 400, loss = 0.6688\n",
      "t = 500, loss = 0.7223\n",
      "t = 600, loss = 0.5947\n",
      "t = 700, loss = 0.7159\n",
      "Starting epoch 41 / 50\n",
      "t = 100, loss = 0.5357\n",
      "t = 200, loss = 0.6485\n",
      "t = 300, loss = 0.7890\n",
      "t = 400, loss = 0.6186\n",
      "t = 500, loss = 0.8192\n",
      "t = 600, loss = 0.8241\n",
      "t = 700, loss = 0.7448\n",
      "Starting epoch 42 / 50\n",
      "t = 100, loss = 0.5836\n",
      "t = 200, loss = 0.6920\n",
      "t = 300, loss = 0.7665\n",
      "t = 400, loss = 0.6117\n",
      "t = 500, loss = 0.7833\n",
      "t = 600, loss = 0.8200\n",
      "t = 700, loss = 0.6844\n",
      "Starting epoch 43 / 50\n",
      "t = 100, loss = 0.6109\n",
      "t = 200, loss = 0.8094\n",
      "t = 300, loss = 0.7987\n",
      "t = 400, loss = 0.7723\n",
      "t = 500, loss = 0.5646\n",
      "t = 600, loss = 0.6680\n",
      "t = 700, loss = 0.8402\n",
      "Starting epoch 44 / 50\n",
      "t = 100, loss = 0.5416\n",
      "t = 200, loss = 0.6557\n",
      "t = 300, loss = 0.7245\n",
      "t = 400, loss = 0.7986\n",
      "t = 500, loss = 0.7786\n",
      "t = 600, loss = 0.7641\n",
      "t = 700, loss = 0.8234\n",
      "Starting epoch 45 / 50\n",
      "t = 100, loss = 0.5299\n",
      "t = 200, loss = 0.5978\n",
      "t = 300, loss = 0.8268\n",
      "t = 400, loss = 0.7045\n",
      "t = 500, loss = 0.7192\n",
      "t = 600, loss = 0.5334\n",
      "t = 700, loss = 0.7944\n",
      "Starting epoch 46 / 50\n",
      "t = 100, loss = 0.6542\n",
      "t = 200, loss = 0.6979\n",
      "t = 300, loss = 0.7749\n",
      "t = 400, loss = 0.7143\n",
      "t = 500, loss = 0.6285\n",
      "t = 600, loss = 0.6180\n",
      "t = 700, loss = 0.7508\n",
      "Starting epoch 47 / 50\n",
      "t = 100, loss = 0.5677\n",
      "t = 200, loss = 0.7001\n",
      "t = 300, loss = 0.5695\n",
      "t = 400, loss = 0.7566\n",
      "t = 500, loss = 0.6946\n",
      "t = 600, loss = 0.6482\n",
      "t = 700, loss = 0.8883\n",
      "Starting epoch 48 / 50\n",
      "t = 100, loss = 0.5949\n",
      "t = 200, loss = 0.6515\n",
      "t = 300, loss = 0.7188\n",
      "t = 400, loss = 0.6691\n",
      "t = 500, loss = 0.7694\n",
      "t = 600, loss = 0.7042\n",
      "t = 700, loss = 1.0357\n",
      "Starting epoch 49 / 50\n",
      "t = 100, loss = 0.5903\n",
      "t = 200, loss = 0.7216\n",
      "t = 300, loss = 0.8447\n",
      "t = 400, loss = 0.6265\n",
      "t = 500, loss = 0.7700\n",
      "t = 600, loss = 0.6719\n",
      "t = 700, loss = 0.8030\n",
      "Starting epoch 50 / 50\n",
      "t = 100, loss = 0.5607\n",
      "t = 200, loss = 0.5111\n",
      "t = 300, loss = 0.7873\n",
      "t = 400, loss = 0.7239\n",
      "t = 500, loss = 0.7566\n",
      "t = 600, loss = 0.7688\n",
      "t = 700, loss = 0.7793\n",
      "Checking accuracy on validation set\n",
      "Got 805 / 1000 correct (80.50)\n"
     ]
    }
   ],
   "source": [
    "ls = train(model, loss_fn, optimizer, num_epochs=50)\n",
    "check_accuracy(model, loader_val)"
   ]
  },
  {
   "cell_type": "markdown",
   "metadata": {
    "colab_type": "text",
    "id": "7F7eL2eQxZt2"
   },
   "source": [
    "#To Do:\n",
    "\n",
    "- rewrite cnn class used `**kwrds` to avoid messy code.\n",
    "- find a way to plot validation loss \n",
    "- experiment with vidsom"
   ]
  },
  {
   "cell_type": "code",
   "execution_count": 183,
   "metadata": {
    "colab": {
     "base_uri": "https://localhost:8080/",
     "height": 286
    },
    "colab_type": "code",
    "id": "gvEd7BETi8eF",
    "outputId": "dc9e25e0-eb47-41f8-d1f2-6cb2dbc00bfd"
   },
   "outputs": [
    {
     "data": {
      "text/plain": [
       "[<matplotlib.lines.Line2D at 0x7fc190362908>]"
      ]
     },
     "execution_count": 183,
     "metadata": {
      "tags": []
     },
     "output_type": "execute_result"
    },
    {
     "data": {
      "image/png": "[encoded data removed]",
      "text/plain": [
       "<Figure size 432x288 with 1 Axes>"
      ]
     },
     "metadata": {
      "tags": []
     },
     "output_type": "display_data"
    }
   ],
   "source": [
    "import matplotlib.pyplot as plt \n",
    "from scipy.ndimage.filters import gaussian_filter1d\n",
    "\n",
    "\n",
    "ysmoothed = gaussian_filter1d(ls, sigma=5)\n",
    "plt.plot(ysmoothed)"
   ]
  },
  {
   "cell_type": "markdown",
   "metadata": {
    "colab_type": "text",
    "id": "CDIMb8nBdmyE"
   },
   "source": [
    "### Describe what you did \n",
    "\n",
    "In the cell below you should write an explanation of what you did, any additional features that you implemented, and any visualizations or graphs that you make in the process of training and evaluating your network."
   ]
  },
  {
   "cell_type": "markdown",
   "metadata": {
    "colab_type": "text",
    "id": "__ZxtKVkdmyF"
   },
   "source": [
    "Tell us here!"
   ]
  },
  {
   "cell_type": "markdown",
   "metadata": {
    "colab_type": "text",
    "id": "GYIL3wGLdmyH"
   },
   "source": [
    "## Test set -- run this only once\n",
    "\n",
    "Now that we've gotten a result we're happy with, we test our final model on the test set (which you should store in best_model).  This would be the score we would achieve on a competition. Think about how this compares to your validation set accuracy."
   ]
  },
  {
   "cell_type": "code",
   "execution_count": 184,
   "metadata": {
    "colab": {
     "base_uri": "https://localhost:8080/",
     "height": 52
    },
    "colab_type": "code",
    "id": "I5fkAxc5dmyI",
    "outputId": "ccc580ad-7cab-48c7-caa3-8766a8af97e2"
   },
   "outputs": [
    {
     "name": "stdout",
     "output_type": "stream",
     "text": [
      "Checking accuracy on test set\n",
      "Got 7778 / 10000 correct (77.78)\n"
     ]
    }
   ],
   "source": [
    "best_model = model\n",
    "check_accuracy(best_model, loader_test)"
   ]
  },
  {
   "cell_type": "markdown",
   "metadata": {
    "colab_type": "text",
    "id": "2hNIvhPHdmyL"
   },
   "source": [
    "## Going further with PyTorch\n",
    "\n",
    "The next assignment will make heavy use of PyTorch. You might also find it useful for your projects. \n",
    "\n",
    "Here's a nice tutorial by Justin Johnson that shows off some of PyTorch's features, like dynamic graphs and custom NN modules: http://pytorch.org/tutorials/beginner/pytorch_with_examples.html\n",
    "\n",
    "If you're interested in reinforcement learning for your final project, this is a good (more advanced) DQN tutorial in PyTorch: http://pytorch.org/tutorials/intermediate/reinforcement_q_learning.html"
   ]
  }
 ],
 "metadata": {
  "accelerator": "GPU",
  "colab": {
   "collapsed_sections": [],
   "name": "Copy of PyTorch.ipynb",
   "provenance": [],
   "version": "0.3.2"
  },
  "kernelspec": {
   "display_name": "Python 3",
   "language": "python",
   "name": "python3"
  },
  "language_info": {
   "codemirror_mode": {
    "name": "ipython",
    "version": 3
   },
   "file_extension": ".py",
   "mimetype": "text/x-python",
   "name": "python",
   "nbconvert_exporter": "python",
   "pygments_lexer": "ipython3",
   "version": "3.7.3"
  }
 },
 "nbformat": 4,
 "nbformat_minor": 1
}
